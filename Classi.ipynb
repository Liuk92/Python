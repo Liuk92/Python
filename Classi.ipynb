{
  "nbformat": 4,
  "nbformat_minor": 0,
  "metadata": {
    "colab": {
      "name": "Classi",
      "provenance": [],
      "collapsed_sections": [],
      "include_colab_link": true
    },
    "kernelspec": {
      "name": "python3",
      "display_name": "Python 3"
    }
  },
  "cells": [
    {
      "cell_type": "markdown",
      "metadata": {
        "id": "view-in-github",
        "colab_type": "text"
      },
      "source": [
        "<a href=\"https://colab.research.google.com/github/Liuk92/Python/blob/master/Classi.ipynb\" target=\"_parent\"><img src=\"https://colab.research.google.com/assets/colab-badge.svg\" alt=\"Open In Colab\"/></a>"
      ]
    },
    {
      "cell_type": "code",
      "metadata": {
        "id": "X5tjlW0XxUjZ",
        "colab_type": "code",
        "colab": {
          "base_uri": "https://localhost:8080/",
          "height": 35
        },
        "outputId": "4ea7a3be-5a01-4762-cd83-b7920e554150"
      },
      "source": [
        "#Spazio dei nomi e SCOPE\n",
        "\n",
        "nome = \"Federica\"\n",
        "\n",
        "def stampaNome():\n",
        "  print(nome)\n",
        "\n",
        "stampaNome()"
      ],
      "execution_count": 53,
      "outputs": [
        {
          "output_type": "stream",
          "text": [
            "Federica\n"
          ],
          "name": "stdout"
        }
      ]
    },
    {
      "cell_type": "code",
      "metadata": {
        "id": "btejXxr-xpGZ",
        "colab_type": "code",
        "colab": {}
      },
      "source": [
        "#Esempio 1\n",
        "\n",
        "nome = \"Federica\"\n",
        "\n",
        "def stampaNome():\n",
        "  nome = nome + \" è molto bella\"\n",
        "  print(nome)\n",
        "\n",
        "stampaNome()"
      ],
      "execution_count": 0,
      "outputs": []
    },
    {
      "cell_type": "code",
      "metadata": {
        "id": "Bn6UdSTsyBvQ",
        "colab_type": "code",
        "colab": {}
      },
      "source": [
        "#Esempio 2\n",
        "\n",
        "nome = \"Federica\"\n",
        "\n",
        "def stampaNome():\n",
        "  global nome\n",
        "  nome = nome + \" ama il sushi\"\n",
        "  print(nome)\n",
        "\n",
        "stampaNome()"
      ],
      "execution_count": 0,
      "outputs": []
    },
    {
      "cell_type": "code",
      "metadata": {
        "id": "PdzfvUv7yT0r",
        "colab_type": "code",
        "colab": {}
      },
      "source": [
        "#Esempio 3\n",
        "\n",
        "nome = \"Federica\"\n",
        "\n",
        "def stampaNome():\n",
        "  nome1 = nome #assegno la variabile globale ad una variabile locale alla funzione\n",
        "  nome1 = nome1 + \" ama il sushi\"\n",
        "  print(nome1)\n",
        "\n",
        "stampaNome()"
      ],
      "execution_count": 0,
      "outputs": []
    },
    {
      "cell_type": "code",
      "metadata": {
        "id": "u7Qqiw1uyw6i",
        "colab_type": "code",
        "colab": {
          "base_uri": "https://localhost:8080/",
          "height": 218
        },
        "outputId": "33cdcaa0-69a8-409c-ace8-cb4e9eb6950c"
      },
      "source": [
        "#Esempio 4\n",
        "\n",
        "def stampaNome():\n",
        "  nomex = \"Federica\"\n",
        "  print(nome)\n",
        "\n",
        "nome1 = nomex*2\n",
        "print(nome1)"
      ],
      "execution_count": 66,
      "outputs": [
        {
          "output_type": "error",
          "ename": "NameError",
          "evalue": "ignored",
          "traceback": [
            "\u001b[0;31m---------------------------------------------------------------------------\u001b[0m",
            "\u001b[0;31mNameError\u001b[0m                                 Traceback (most recent call last)",
            "\u001b[0;32m<ipython-input-66-9f64ccd79599>\u001b[0m in \u001b[0;36m<module>\u001b[0;34m()\u001b[0m\n\u001b[1;32m      4\u001b[0m   \u001b[0mprint\u001b[0m\u001b[0;34m(\u001b[0m\u001b[0mnome\u001b[0m\u001b[0;34m)\u001b[0m\u001b[0;34m\u001b[0m\u001b[0;34m\u001b[0m\u001b[0m\n\u001b[1;32m      5\u001b[0m \u001b[0;34m\u001b[0m\u001b[0m\n\u001b[0;32m----> 6\u001b[0;31m \u001b[0mnome1\u001b[0m \u001b[0;34m=\u001b[0m \u001b[0mnomex\u001b[0m\u001b[0;34m*\u001b[0m\u001b[0;36m2\u001b[0m\u001b[0;34m\u001b[0m\u001b[0;34m\u001b[0m\u001b[0m\n\u001b[0m\u001b[1;32m      7\u001b[0m \u001b[0mprint\u001b[0m\u001b[0;34m(\u001b[0m\u001b[0mnome1\u001b[0m\u001b[0;34m)\u001b[0m\u001b[0;34m\u001b[0m\u001b[0;34m\u001b[0m\u001b[0m\n",
            "\u001b[0;31mNameError\u001b[0m: name 'nomex' is not defined"
          ]
        }
      ]
    },
    {
      "cell_type": "code",
      "metadata": {
        "id": "WzIiKy10lhar",
        "colab_type": "code",
        "colab": {
          "base_uri": "https://localhost:8080/",
          "height": 35
        },
        "outputId": "153aac36-3db4-4ebf-823a-bcf7c89efc53"
      },
      "source": [
        "#Esempio 4.1\n",
        "def stampaNome():\n",
        " nome = \"Federica\"\n",
        " return nome\n",
        "\n",
        "nome1 = stampaNome()*2\n",
        "print(nome1)"
      ],
      "execution_count": 67,
      "outputs": [
        {
          "output_type": "stream",
          "text": [
            "FedericaFederica\n"
          ],
          "name": "stdout"
        }
      ]
    },
    {
      "cell_type": "code",
      "metadata": {
        "id": "mHSDSZ-hjeTO",
        "colab_type": "code",
        "colab": {}
      },
      "source": [
        "#Classi \n",
        "\n",
        "#Sintassi definizione di classe\n",
        "class NomeClasse:\n",
        "  istruzione-1\n",
        "  .\n",
        "  .\n",
        "  istruzione-n"
      ],
      "execution_count": 0,
      "outputs": []
    },
    {
      "cell_type": "code",
      "metadata": {
        "id": "9HC8m7dSsFjJ",
        "colab_type": "code",
        "colab": {}
      },
      "source": [
        "#Esempio Classe Python\n",
        "\n",
        "class Classe:\n",
        "  \"\"\"Sono la documentazione della Classe\"\"\"\n",
        "  varClasse = 10\n",
        "  def funClasse(self):\n",
        "    print(\"Ciao, sono una classe\\n\")\n"
      ],
      "execution_count": 0,
      "outputs": []
    },
    {
      "cell_type": "code",
      "metadata": {
        "id": "4SCRECuctsFw",
        "colab_type": "code",
        "colab": {
          "base_uri": "https://localhost:8080/",
          "height": 69
        },
        "outputId": "00fe2274-5366-4f13-910c-2b5d3ad9adeb"
      },
      "source": [
        "#Oggetti classe\n",
        "\n",
        "class esempio:\n",
        "  \"\"\"sono la documentazione della classe esempio\"\"\"\n",
        "  nome2 = \"lollo\"\n",
        "\n",
        "  def funz(self):\n",
        "    return \"galletto\"\n",
        "\n",
        "print(esempio.__doc__)  # __doc__ restituisce la stringa di documentazione della classe\n",
        "\n",
        "esempio.nome2 #stringa\n",
        "#esempio.funz() #oggetto metodo\n",
        "\n",
        "#Instanziazione di una classe\n",
        "\n",
        "x = esempio()\n",
        "\n",
        "print(\"Sono l'attributo di x :\",x.nome2)\n",
        "\n",
        "x.funz()"
      ],
      "execution_count": 68,
      "outputs": [
        {
          "output_type": "stream",
          "text": [
            "sono la documentazione della classe esempio\n",
            "Sono l'attributo di x : lollo\n"
          ],
          "name": "stdout"
        },
        {
          "output_type": "execute_result",
          "data": {
            "text/plain": [
              "'galletto'"
            ]
          },
          "metadata": {
            "tags": []
          },
          "execution_count": 68
        }
      ]
    },
    {
      "cell_type": "code",
      "metadata": {
        "id": "OUxnsXEC6sj4",
        "colab_type": "code",
        "colab": {
          "base_uri": "https://localhost:8080/",
          "height": 35
        },
        "outputId": "5c6dd212-05bd-4733-e20c-657aa01f2686"
      },
      "source": [
        "#Istanziazione con \"stato iniziale\" (Costruttore)\n",
        "\n",
        "class esempio1:\n",
        "  def __init__(self,nome,cognome):\n",
        "    self.nome = nome\n",
        "    self.cognome = cognome\n",
        "\n",
        "x1 = esempio1(\"Lebron\",\"James\")\n",
        "x1.nome,x1.cognome"
      ],
      "execution_count": 69,
      "outputs": [
        {
          "output_type": "execute_result",
          "data": {
            "text/plain": [
              "('Lebron', 'James')"
            ]
          },
          "metadata": {
            "tags": []
          },
          "execution_count": 69
        }
      ]
    },
    {
      "cell_type": "code",
      "metadata": {
        "id": "IZRUR9MhtwzI",
        "colab_type": "code",
        "colab": {
          "base_uri": "https://localhost:8080/",
          "height": 52
        },
        "outputId": "b5f5acb6-7142-4348-e728-4a37d53a1964"
      },
      "source": [
        "#Oggetti metodo\n",
        "\n",
        "class esempioN:\n",
        "  \"\"\"sono la documentazione della classe esempio\"\"\"\n",
        "  z = 100\n",
        "\n",
        "  def funz(self):\n",
        "    return \"galletto\"\n",
        "\n",
        "p = esempioN() #istanza della classe esempioN\n",
        "\n",
        "o = p.funz()\n",
        "\n",
        "print(o) #non troviamo tra i parametri della funzione self\n",
        "\n",
        "esempioN.funz(p) #equivalente all'istruzione precedente"
      ],
      "execution_count": 70,
      "outputs": [
        {
          "output_type": "stream",
          "text": [
            "galletto\n"
          ],
          "name": "stdout"
        },
        {
          "output_type": "execute_result",
          "data": {
            "text/plain": [
              "'galletto'"
            ]
          },
          "metadata": {
            "tags": []
          },
          "execution_count": 70
        }
      ]
    },
    {
      "cell_type": "code",
      "metadata": {
        "id": "2Z6sy7GpuVHf",
        "colab_type": "code",
        "colab": {}
      },
      "source": [
        "#Ereditarietà\n",
        "\n",
        "class NomeClasseDerivata(NomeClasseBase):\n",
        "  istruzione-1\n",
        "  .\n",
        "  .\n",
        "  istruzione-n\n"
      ],
      "execution_count": 0,
      "outputs": []
    },
    {
      "cell_type": "code",
      "metadata": {
        "id": "-SPCtihn9aVg",
        "colab_type": "code",
        "colab": {
          "base_uri": "https://localhost:8080/",
          "height": 52
        },
        "outputId": "bf20d589-d07b-4d34-ad5d-0d446b073650"
      },
      "source": [
        "#Esempio ereditarietà\n",
        "\n",
        "class Persona:\n",
        "  def __init__(self,nome,cognome):\n",
        "    self.nome = nome\n",
        "    self.cognome = cognome\n",
        "\n",
        "  def stampaDati(self):\n",
        "    print(self.nome,self.cognome)\n",
        "\n",
        "\n",
        "class Studente(Persona):\n",
        "  def __init__(self,nome,cognome,matricola):\n",
        "    super().__init__(nome,cognome)\n",
        "    self.matricola = matricola\n",
        "\n",
        "  def stampaDati(self):\n",
        "    super().stampaDati()\n",
        "    print(self.matricola)\n",
        "\n",
        "\n",
        "istanza = Studente(\"Pierpaolo\",\"Fruttaldo\",3456)\n",
        "\n",
        "istanza.stampaDati()"
      ],
      "execution_count": 71,
      "outputs": [
        {
          "output_type": "stream",
          "text": [
            "Pierpaolo Fruttaldo\n",
            "3456\n"
          ],
          "name": "stdout"
        }
      ]
    }
  ]
}