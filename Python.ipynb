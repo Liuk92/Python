{
  "nbformat": 4,
  "nbformat_minor": 0,
  "metadata": {
    "colab": {
      "name": "Python.ipynb",
      "provenance": [],
      "collapsed_sections": [],
      "authorship_tag": "ABX9TyP/o56/fB1qsd2Hmzv4FF2a",
      "include_colab_link": true
    },
    "kernelspec": {
      "name": "python3",
      "display_name": "Python 3"
    }
  },
  "cells": [
    {
      "cell_type": "markdown",
      "metadata": {
        "id": "view-in-github",
        "colab_type": "text"
      },
      "source": [
        "<a href=\"https://colab.research.google.com/github/Liuk92/Python/blob/master/Python.ipynb\" target=\"_parent\"><img src=\"https://colab.research.google.com/assets/colab-badge.svg\" alt=\"Open In Colab\"/></a>"
      ]
    },
    {
      "cell_type": "code",
      "metadata": {
        "id": "acTf_vgdUK6t",
        "colab_type": "code",
        "outputId": "96142d37-d078-4302-df55-a8f7e4509bbd",
        "colab": {
          "base_uri": "https://localhost:8080/",
          "height": 34
        }
      },
      "source": [
        "#il primo programma\n",
        "print(\"Hello World\")"
      ],
      "execution_count": 3,
      "outputs": [
        {
          "output_type": "stream",
          "text": [
            "Hello World\n"
          ],
          "name": "stdout"
        }
      ]
    },
    {
      "cell_type": "code",
      "metadata": {
        "id": "5tGMJlq-Onk1",
        "colab_type": "code",
        "colab": {}
      },
      "source": [
        "#sono un commento\n",
        "2+2 #somma di interi\n",
        "\n",
        "nome = \"# non sono un commento\"\n",
        "print(nome)"
      ],
      "execution_count": 0,
      "outputs": []
    },
    {
      "cell_type": "code",
      "metadata": {
        "id": "XAk3TE03PCOP",
        "colab_type": "code",
        "colab": {
          "base_uri": "https://localhost:8080/",
          "height": 34
        },
        "outputId": "5df92267-a20a-4c05-8dc6-65afeb82059f"
      },
      "source": [
        "#Python come calcolatrice\n",
        "3-2+1\n",
        "\n",
        "(10*3+2)/2\n",
        "\n",
        "# = -> Assegnamento\n",
        "altezza = 18\n",
        "base = 12\n",
        "area = (altezza * base)/2 #non viene stampato nulla a video\n",
        "\n",
        "x = y = z = \"Ciao Fe\" #assegnamento multiplo\n",
        "\n",
        "def stampaNvolte(a,b,c):\n",
        "  print(a,b,c)\n",
        "\n",
        "stampaNvolte(x,y,z)"
      ],
      "execution_count": 10,
      "outputs": [
        {
          "output_type": "stream",
          "text": [
            "Ciao Fe Ciao Fe Ciao Fe\n"
          ],
          "name": "stdout"
        }
      ]
    },
    {
      "cell_type": "code",
      "metadata": {
        "id": "ws-SFNcsSTjt",
        "colab_type": "code",
        "colab": {
          "base_uri": "https://localhost:8080/",
          "height": 102
        },
        "outputId": "b2cd235d-7d42-4dc6-9dbe-db681922abd1"
      },
      "source": [
        "#numeri complessi (reale + imagj)\n",
        "\n",
        "minusOne = 1j * 1J\n",
        "print(minusOne)\n",
        "\n",
        "min = complex(2,3) #funzione per la creazione di numeri complessi complex(real,imag)\n",
        "print(min)\n",
        "\n",
        "(2+3j)*(3-4J)\n",
        "\n",
        "#estrarre parte reale e parte immaginaria\n",
        "\n",
        "print(min.real) #estrarre la parte reale di min\n",
        "print(min.imag) #estrarre la parte reale di min\n",
        "\n",
        "abs(min) #modulo del numero complesso sqtr(min.real**2 + min.imag**2)\n"
      ],
      "execution_count": 13,
      "outputs": [
        {
          "output_type": "stream",
          "text": [
            "(-1+0j)\n",
            "(2+3j)\n",
            "2.0\n",
            "3.0\n"
          ],
          "name": "stdout"
        },
        {
          "output_type": "execute_result",
          "data": {
            "text/plain": [
              "3.605551275463989"
            ]
          },
          "metadata": {
            "tags": []
          },
          "execution_count": 13
        }
      ]
    },
    {
      "cell_type": "code",
      "metadata": {
        "id": "sjmGGbdUU4Ox",
        "colab_type": "code",
        "colab": {
          "base_uri": "https://localhost:8080/",
          "height": 102
        },
        "outputId": "e8d6bb6f-0c39-4b32-a9cc-6465bad6bc96"
      },
      "source": [
        "#Stringhe in Python\n",
        "\n",
        "'ananas'\n",
        "\"ananas\"\n",
        "\n",
        "ciao = \"benvenuti, impariamo insieme Python \\n banane, lamponi \\n stasera con te\" #stringa con più righe\n",
        "print(ciao)\n",
        "\n",
        "#concatenazione di stringhe\n",
        "word = 'Sei' + \"stato\" + 'bravo' #operatore + \n",
        "print(word)\n",
        "\n",
        "#ripetere una stringa \n",
        "word2 =word*2 #operatore *\n",
        "print(word)\n",
        "\n",
        "name = 'Python'\n",
        "name[2]\n",
        "print(name[1:3]) #slice notation\n",
        "\n",
        "name[:2]\n",
        "name[2:]\n",
        "\n",
        "print('la lunghezza della stringa è : ',len(name)) #funzione len()"
      ],
      "execution_count": 22,
      "outputs": [
        {
          "output_type": "stream",
          "text": [
            "benvenuti, impariamo insieme Python \n",
            " banane, lamponi \n",
            " stasera con te\n",
            "Seistatobravo\n",
            "Seistatobravo\n"
          ],
          "name": "stdout"
        }
      ]
    },
    {
      "cell_type": "code",
      "metadata": {
        "id": "4_YftHBmdrUh",
        "colab_type": "code",
        "colab": {
          "base_uri": "https://localhost:8080/",
          "height": 102
        },
        "outputId": "d9b4f339-efd5-4d6c-c91f-60b8bcf70515"
      },
      "source": [
        "#Liste \n",
        "\n",
        "spesa = ['avocado' , 'mozzarella']\n",
        "pippo = [3 , 'sei stato bravo' , 1j]\n",
        "\n",
        "print('Primo elemento lista spesa : ',spesa[0])\n",
        "pippo1 = pippo[:2] + ['bravo' , 3*6]\n",
        "print(pippo1)\n",
        "\n",
        "pippo[0] = pippo[0] * 2 + 4 # modifica elementi liste\n",
        "print(pippo)\n",
        "\n",
        "#liste annidate\n",
        "a = [9,10]\n",
        "b = [0,a,'lin']\n",
        "\n",
        "print(b,'  ',b[1])\n",
        "\n",
        "print(b[1][0]) #accedere agli elementi della sottolista"
      ],
      "execution_count": 25,
      "outputs": [
        {
          "output_type": "stream",
          "text": [
            "Primo elemento lista spesa :  avocado\n",
            "[3, 'sei stato bravo', 'bravo', 18]\n",
            "[10, 'sei stato bravo', 1j]\n",
            "[0, [9, 10], 'lin']    [9, 10]\n",
            "9\n"
          ],
          "name": "stdout"
        }
      ]
    },
    {
      "cell_type": "code",
      "metadata": {
        "id": "3WU5w2iui5sv",
        "colab_type": "code",
        "colab": {
          "base_uri": "https://localhost:8080/",
          "height": 221
        },
        "outputId": "319f87fc-2253-48cb-9d0c-0a921f7a994f"
      },
      "source": [
        "#Metodi base Liste\n",
        "\n",
        "zaino = ['a','b','c']\n",
        "#append(elemento): Aggiunge un'elemento alla fine della lista\n",
        "print(\"\\nMetodo append()\")\n",
        "zaino.append(\"d\")\n",
        "print(zaino)\n",
        "\n",
        "#remove(nome_elemento): Rimuove un'elemento della lista. La remove() utilizza l'effettivo nome dell'elemento da eliminare\n",
        "print(\"\\nMetodo remove()\")\n",
        "zaino.remove(\"d\")\n",
        "print(zaino)\n",
        "\n",
        "#sort(). Questo metodo ordina una lista in ordine alfabetico o numerico(dipende dagli elementi della lista). \n",
        "print(\"\\nMetodo sort()\")\n",
        "alfabeto=['g','f','h','q','r','w']\n",
        "print(\"La lista alfabeto prima: \",alfabeto)\n",
        "alfabeto.sort()\n",
        "print(\"La lista alfabeto dopo: \",alfabeto)\n",
        "\n",
        "numeri=[56,2,87,84,7,8,3,7,5]\n",
        "print(\"La lista numeri prima: \",numeri)\n",
        "numeri.sort()\n",
        "print(\"La lista numeri ordinata in ordine cresente: \",numeri)"
      ],
      "execution_count": 28,
      "outputs": [
        {
          "output_type": "stream",
          "text": [
            "\n",
            "Metodo append()\n",
            "['a', 'b', 'c', 'd']\n",
            "\n",
            "Metodo remove()\n",
            "['a', 'b', 'c']\n",
            "\n",
            "Metodo sort()\n",
            "La lista alfabeto prima:  ['g', 'f', 'h', 'q', 'r', 'w']\n",
            "La lista alfabeto dopo:  ['f', 'g', 'h', 'q', 'r', 'w']\n",
            "La lista numeri prima:  [56, 2, 87, 84, 7, 8, 3, 7, 5]\n",
            "La lista numeri ordinata in ordine cresente:  [2, 3, 5, 7, 7, 8, 56, 84, 87]\n"
          ],
          "name": "stdout"
        }
      ]
    },
    {
      "cell_type": "code",
      "metadata": {
        "id": "sLyvlzbiff7_",
        "colab_type": "code",
        "colab": {}
      },
      "source": [
        "#Tuple\n",
        "\n",
        "#a differenza delle liste le tuple :\n",
        "#al posto delle parentesi quadre si useranno le parentesi tonde;\n",
        "tuple1=(1,2,3,4,5)\n",
        "print(tuple1)\n",
        "\n",
        "#le parentesi si possono anche omettere\n",
        "tuple2=1,2,3,4,5\n",
        "print(tuple2)\n",
        "\n",
        "#le tuple, una volta creati, non sono modificabili"
      ],
      "execution_count": 0,
      "outputs": []
    },
    {
      "cell_type": "code",
      "metadata": {
        "id": "fAp70rDlRA-v",
        "colab_type": "code",
        "colab": {
          "base_uri": "https://localhost:8080/",
          "height": 136
        },
        "outputId": "904f5253-ddbd-473d-a2c2-f28e7d18e778"
      },
      "source": [
        "#Dizionari\n",
        "#Sintassi dizionari: nome_dizionario={nome_chiave:nome_valore,nome_chiave1:nome_valore1,ecc...}\n",
        "\n",
        "diz={\"F\":\"Amore\",\n",
        "\t \"Lebron\":\"James\",\n",
        "\t 90:\"Pierpaolo\",\n",
        "\t \"primi\":[1,3,5,7]}\n",
        "print(\"Dizionario: \",diz)\n",
        "\n",
        "#Per accedere o modificare un valore di un dizionario, si utilizza lo stesso meccanismo visto nelle liste (chiavi come indici)\n",
        "print(\"Valore: \",diz[90])\n",
        "\n",
        "#per modificare un valore specifico di una lista all'interno di un dizionario, basta sfruttare il meccanismo del doppio indice \n",
        "diz[\"primi\"][2] = 1j\n",
        "print(\"Valore modificato: \",diz[\"primi\"])\n",
        "print(\"Dizionario aggiornato: \",diz)\n",
        "\n",
        "#Sintassi per aggiungere una nuova coppia chiave-valore:nome_dizionario[nuova_chiave]=nuovo_valore\n",
        "print(\"\\nAggiungere una nuova coppia chiave-valore\")\n",
        "diz[\"Kobe\"] = 24\n",
        "print(\"Dizionario aggiornato: \",diz)\n"
      ],
      "execution_count": 30,
      "outputs": [
        {
          "output_type": "stream",
          "text": [
            "Dizionario:  {'F': 'Amore', 'Lebron': 'James', 90: 'Pierpaolo', 'primi': [1, 5, 3, 7]}\n",
            "Valore:  Pierpaolo\n",
            "Valore modificato:  [1, 5, 1j, 7]\n",
            "Dizionario aggiornato:  {'F': 'Amore', 'Lebron': 'James', 90: 'Pierpaolo', 'primi': [1, 5, 1j, 7]}\n",
            "\n",
            "Aggiungere una nuova coppia chiave-valore\n",
            "Dizionario aggiornato:  {'F': 'Amore', 'Lebron': 'James', 90: 'Pierpaolo', 'primi': [1, 5, 1j, 7], 'Kobe': 24}\n"
          ],
          "name": "stdout"
        }
      ]
    },
    {
      "cell_type": "code",
      "metadata": {
        "id": "k4NPBxZBly8o",
        "colab_type": "code",
        "colab": {
          "base_uri": "https://localhost:8080/",
          "height": 187
        },
        "outputId": "5371ae75-73d2-4c61-a16c-82ef9749868c"
      },
      "source": [
        "#Metodi Dizionari\n",
        "\n",
        "#Metodo keys()\n",
        "#Sintassi: nome_dizionario.keys()\n",
        "print(\"Metodo keys()\")\n",
        "tipi = {'int':24,'float':14.5,'stringa':'bravi'}\n",
        "print(\"Dizionario: \",tipi)\n",
        "print(\"Le chiavi del dizionario: \",tipi.keys())\n",
        "print(type(tipi['float']))\n",
        "\n",
        "#Metodo values()\n",
        "#Sintassi: nome_dizionario.values()\n",
        "print(\"\\nMetodo values()\")\n",
        "print(\"I valori del dizionario: \",tipi.values())\n",
        "\n",
        "#Metodo items()\n",
        "#Sintassi: nome_dizionario.items()\n",
        "print(\"\\nMetodo items()\")\n",
        "print(\"Le coppie chiave-valore del dizionario: \",tipi.items())"
      ],
      "execution_count": 36,
      "outputs": [
        {
          "output_type": "stream",
          "text": [
            "Metodo keys()\n",
            "Dizionario:  {'int': 24, 'float': 14.5, 'stringa': 'bravi'}\n",
            "Le chiavi del dizionario:  dict_keys(['int', 'float', 'stringa'])\n",
            "<class 'float'>\n",
            "\n",
            "Metodo values()\n",
            "I valori del dizionario:  dict_values([24, 14.5, 'bravi'])\n",
            "\n",
            "Metodo items()\n",
            "Le coppie chiave-valore del dizionario:  dict_items([('int', 24), ('float', 14.5), ('stringa', 'bravi')])\n"
          ],
          "name": "stdout"
        }
      ]
    }
  ]
}