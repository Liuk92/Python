{
  "nbformat": 4,
  "nbformat_minor": 0,
  "metadata": {
    "colab": {
      "name": "controllo del flusso",
      "provenance": [],
      "collapsed_sections": [],
      "toc_visible": true,
      "authorship_tag": "ABX9TyMsAkAVrbzYDnXI1l9bTOgW",
      "include_colab_link": true
    },
    "kernelspec": {
      "name": "python3",
      "display_name": "Python 3"
    }
  },
  "cells": [
    {
      "cell_type": "markdown",
      "metadata": {
        "id": "view-in-github",
        "colab_type": "text"
      },
      "source": [
        "<a href=\"https://colab.research.google.com/github/Liuk92/Python/blob/master/controllo_del_flusso.ipynb\" target=\"_parent\"><img src=\"https://colab.research.google.com/assets/colab-badge.svg\" alt=\"Open In Colab\"/></a>"
      ]
    },
    {
      "cell_type": "markdown",
      "metadata": {
        "id": "qn0zuplx90rM",
        "colab_type": "text"
      },
      "source": [
        "# Strumenti di controllo del flusso di esecuzione\n",
        "\n",
        "---\n",
        "\n"
      ]
    },
    {
      "cell_type": "code",
      "metadata": {
        "id": "u4Ye-YGcH9p8",
        "colab_type": "code",
        "colab": {}
      },
      "source": [
        "#Costrutto condizionale if\n",
        "\n",
        "#Sintassi\n",
        "\n",
        "if condizione:\n",
        "  istruzioni\n",
        "else:\n",
        "  istruzioni"
      ],
      "execution_count": 0,
      "outputs": []
    },
    {
      "cell_type": "code",
      "metadata": {
        "id": "QUK6NEuU9oPy",
        "colab_type": "code",
        "colab": {
          "base_uri": "https://localhost:8080/",
          "height": 68
        },
        "outputId": "bb4ea89a-718e-4757-97e7-1f087a3e5d32"
      },
      "source": [
        "#Esempio 1\n",
        "\n",
        "x = int(input(\"Inserire valore x :\\n\"))\n",
        "\n",
        "if x < 10:\n",
        "  print(\"x è minore di 10\")\n",
        "else:\n",
        "  print(\"x è maggiore di 10\")"
      ],
      "execution_count": 2,
      "outputs": [
        {
          "output_type": "stream",
          "text": [
            "Inserire valore x :\n",
            "12\n",
            "x è maggiore di 10\n"
          ],
          "name": "stdout"
        }
      ]
    },
    {
      "cell_type": "code",
      "metadata": {
        "id": "ePi7i6oKfvQD",
        "colab_type": "code",
        "colab": {
          "base_uri": "https://localhost:8080/",
          "height": 51
        },
        "outputId": "50762582-3bf5-4cf9-e9a9-ac274365956b"
      },
      "source": [
        "#Esempio 2\n",
        "\n",
        "def vocale (a):\n",
        "    vocali=\"aeiou\"\n",
        "    if a in vocali:\n",
        "        print(a+\" è una vocale\")\n",
        "    else:\n",
        "        print(a+\" non è una vocale\")\n",
        "\n",
        "vocale(input(\"Inserisci una lettera: \"))"
      ],
      "execution_count": 3,
      "outputs": [
        {
          "output_type": "stream",
          "text": [
            "Inserisci una lettera: e\n",
            "e è una vocale\n"
          ],
          "name": "stdout"
        }
      ]
    },
    {
      "cell_type": "code",
      "metadata": {
        "id": "eQb0rGLh_Rrt",
        "colab_type": "code",
        "colab": {
          "base_uri": "https://localhost:8080/",
          "height": 85
        },
        "outputId": "18dfb0ac-e7b5-4a3b-bbd2-f4173e5498b9"
      },
      "source": [
        "#Esempio elif\n",
        "\n",
        "x = int(input(\"Inserire valore x :\\n\"))\n",
        "\n",
        "if x > 10:\n",
        "  x = \"sono maggiore di 10\\n\"\n",
        "  print(x)\n",
        "elif x == 2:\n",
        "  print(\"x = 2\\n\")\n",
        "elif x == 3:\n",
        "  print(\"x = 3\\n\")\n",
        "else:\n",
        "  print(\"nessuno dei casi precedenti\\n\")\n"
      ],
      "execution_count": 5,
      "outputs": [
        {
          "output_type": "stream",
          "text": [
            "Inserire valore x :\n",
            "9\n",
            "nessuno dei casi precedenti\n",
            "\n"
          ],
          "name": "stdout"
        }
      ]
    },
    {
      "cell_type": "code",
      "metadata": {
        "id": "IRzCjC-_JebZ",
        "colab_type": "code",
        "colab": {}
      },
      "source": [
        "#Ciclo while\n",
        "\n",
        "#Sintassi\n",
        "\n",
        "while condizione:\n",
        "  istruzione-1\n",
        "  .\n",
        "  .\n",
        "  istruzione-n"
      ],
      "execution_count": 0,
      "outputs": []
    },
    {
      "cell_type": "code",
      "metadata": {
        "id": "ZMXPFnSjAEJp",
        "colab_type": "code",
        "colab": {
          "base_uri": "https://localhost:8080/",
          "height": 153
        },
        "outputId": "63d42ba7-9981-4c26-b926-28b080d0ed0e"
      },
      "source": [
        "#Ciclo while\n",
        "\n",
        "b = 0\n",
        "\n",
        "while b < 10:\n",
        "  print(\"Sono nel ciclo while\\n Inserisci il valore 0 per uscire dal ciclo\")\n",
        "  val = int(input(\"Inserire valore val :\\n\"))\n",
        "  if(val == 0):\n",
        "    break     #istruzione che permette di uscire dal ciclo\n",
        "  \n",
        "\n"
      ],
      "execution_count": 7,
      "outputs": [
        {
          "output_type": "stream",
          "text": [
            "Sono nel ciclo while\n",
            " Inserisci il valore 0 per uscire dal ciclo\n",
            "Inserire valore val :\n",
            "2\n",
            "Sono nel ciclo while\n",
            " Inserisci il valore 0 per uscire dal ciclo\n",
            "Inserire valore val :\n",
            "0\n"
          ],
          "name": "stdout"
        }
      ]
    },
    {
      "cell_type": "code",
      "metadata": {
        "id": "RnuLz-n2AQ21",
        "colab_type": "code",
        "colab": {}
      },
      "source": [
        "#Ciclo for\n",
        "\n",
        "#Sintassi\n",
        "for x in range(start,stop,step):\n",
        "  istruzione-1\n",
        "  .\n",
        "  .\n",
        "  istruzione-n"
      ],
      "execution_count": 0,
      "outputs": []
    },
    {
      "cell_type": "code",
      "metadata": {
        "id": "Qxq_xaNoAuoK",
        "colab_type": "code",
        "colab": {
          "base_uri": "https://localhost:8080/",
          "height": 136
        },
        "outputId": "557af48e-4bf0-4108-afda-4a0437fadb65"
      },
      "source": [
        "#Esempio 1 ciclo for\n",
        "\n",
        "def fibonacci(n):\n",
        "    if n <= 1:\n",
        "        return n\n",
        "    else:\n",
        "        return (fibonacci(n-1) + fibonacci(n-2))\n",
        "\n",
        "\n",
        "n = int(input('Inserisci il numero di elementi che desideri vedere: '))\n",
        "print(\"Sequenza di Fibonacci : \")\n",
        "\n",
        "for num in range(1,n+1):\n",
        "     print(fibonacci(num))"
      ],
      "execution_count": 8,
      "outputs": [
        {
          "output_type": "stream",
          "text": [
            "Inserisci il numero di elementi che desideri vedere: 5\n",
            "Sequenza di Fibonacci : \n",
            "1\n",
            "1\n",
            "2\n",
            "3\n",
            "5\n"
          ],
          "name": "stdout"
        }
      ]
    },
    {
      "cell_type": "code",
      "metadata": {
        "id": "5QY6PYPsBcJ4",
        "colab_type": "code",
        "colab": {
          "base_uri": "https://localhost:8080/",
          "height": 51
        },
        "outputId": "2b30e94f-e392-4816-b98b-fa6f302551c8"
      },
      "source": [
        "#Esempio 2\n",
        "\n",
        "lista = [1, -2, 3, -4]\n",
        "\n",
        "for x in lista:\n",
        "  if(x>0):\n",
        "    print(\"sono maggiore di zero\")\n",
        "  else:\n",
        "    continue #istruzione che permette di proseguire con l'iterazione successiva del ciclo\n"
      ],
      "execution_count": 9,
      "outputs": [
        {
          "output_type": "stream",
          "text": [
            "sono maggiore di zero\n",
            "sono maggiore di zero\n"
          ],
          "name": "stdout"
        }
      ]
    }
  ]
}